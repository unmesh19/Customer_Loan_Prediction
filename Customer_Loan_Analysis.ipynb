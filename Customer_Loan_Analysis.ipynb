{
 "cells": [
  {
   "cell_type": "markdown",
   "id": "efaf517e-0bb5-4397-aa39-e309bb6fc89c",
   "metadata": {},
   "source": [
    "1. Data Loading and Initial Exploration"
   ]
  },
  {
   "cell_type": "code",
   "execution_count": 1,
   "id": "3051d43f-4c8a-48db-a152-c5625187d383",
   "metadata": {},
   "outputs": [],
   "source": [
    "import pandas as pd\n",
    "import matplotlib.pyplot as plt"
   ]
  },
  {
   "cell_type": "code",
   "execution_count": 2,
   "id": "bd107ef3-1d80-4dcb-bd8c-ee46cae07281",
   "metadata": {},
   "outputs": [
    {
     "data": {
      "text/html": [
       "<div>\n",
       "<style scoped>\n",
       "    .dataframe tbody tr th:only-of-type {\n",
       "        vertical-align: middle;\n",
       "    }\n",
       "\n",
       "    .dataframe tbody tr th {\n",
       "        vertical-align: top;\n",
       "    }\n",
       "\n",
       "    .dataframe thead th {\n",
       "        text-align: right;\n",
       "    }\n",
       "</style>\n",
       "<table border=\"1\" class=\"dataframe\">\n",
       "  <thead>\n",
       "    <tr style=\"text-align: right;\">\n",
       "      <th></th>\n",
       "      <th>Loan_ID</th>\n",
       "      <th>Gender</th>\n",
       "      <th>Married</th>\n",
       "      <th>Dependents</th>\n",
       "      <th>Education</th>\n",
       "      <th>Self_Employed</th>\n",
       "      <th>ApplicantIncome</th>\n",
       "      <th>CoapplicantIncome</th>\n",
       "      <th>LoanAmount</th>\n",
       "      <th>Loan_Amount_Term</th>\n",
       "      <th>Credit_History</th>\n",
       "      <th>Property_Area</th>\n",
       "      <th>Loan_Status</th>\n",
       "    </tr>\n",
       "  </thead>\n",
       "  <tbody>\n",
       "    <tr>\n",
       "      <th>0</th>\n",
       "      <td>LP001002</td>\n",
       "      <td>Male</td>\n",
       "      <td>No</td>\n",
       "      <td>0</td>\n",
       "      <td>Graduate</td>\n",
       "      <td>No</td>\n",
       "      <td>5849</td>\n",
       "      <td>0.0</td>\n",
       "      <td>NaN</td>\n",
       "      <td>360.0</td>\n",
       "      <td>1.0</td>\n",
       "      <td>Urban</td>\n",
       "      <td>Y</td>\n",
       "    </tr>\n",
       "    <tr>\n",
       "      <th>1</th>\n",
       "      <td>LP001003</td>\n",
       "      <td>Male</td>\n",
       "      <td>Yes</td>\n",
       "      <td>1</td>\n",
       "      <td>Graduate</td>\n",
       "      <td>No</td>\n",
       "      <td>4583</td>\n",
       "      <td>1508.0</td>\n",
       "      <td>128.0</td>\n",
       "      <td>360.0</td>\n",
       "      <td>1.0</td>\n",
       "      <td>Rural</td>\n",
       "      <td>N</td>\n",
       "    </tr>\n",
       "    <tr>\n",
       "      <th>2</th>\n",
       "      <td>LP001005</td>\n",
       "      <td>Male</td>\n",
       "      <td>Yes</td>\n",
       "      <td>0</td>\n",
       "      <td>Graduate</td>\n",
       "      <td>Yes</td>\n",
       "      <td>3000</td>\n",
       "      <td>0.0</td>\n",
       "      <td>66.0</td>\n",
       "      <td>360.0</td>\n",
       "      <td>1.0</td>\n",
       "      <td>Urban</td>\n",
       "      <td>Y</td>\n",
       "    </tr>\n",
       "    <tr>\n",
       "      <th>3</th>\n",
       "      <td>LP001006</td>\n",
       "      <td>Male</td>\n",
       "      <td>Yes</td>\n",
       "      <td>0</td>\n",
       "      <td>Not Graduate</td>\n",
       "      <td>No</td>\n",
       "      <td>2583</td>\n",
       "      <td>2358.0</td>\n",
       "      <td>120.0</td>\n",
       "      <td>360.0</td>\n",
       "      <td>1.0</td>\n",
       "      <td>Urban</td>\n",
       "      <td>Y</td>\n",
       "    </tr>\n",
       "    <tr>\n",
       "      <th>4</th>\n",
       "      <td>LP001008</td>\n",
       "      <td>Male</td>\n",
       "      <td>No</td>\n",
       "      <td>0</td>\n",
       "      <td>Graduate</td>\n",
       "      <td>No</td>\n",
       "      <td>6000</td>\n",
       "      <td>0.0</td>\n",
       "      <td>141.0</td>\n",
       "      <td>360.0</td>\n",
       "      <td>1.0</td>\n",
       "      <td>Urban</td>\n",
       "      <td>Y</td>\n",
       "    </tr>\n",
       "  </tbody>\n",
       "</table>\n",
       "</div>"
      ],
      "text/plain": [
       "    Loan_ID Gender Married Dependents     Education Self_Employed  \\\n",
       "0  LP001002   Male      No          0      Graduate            No   \n",
       "1  LP001003   Male     Yes          1      Graduate            No   \n",
       "2  LP001005   Male     Yes          0      Graduate           Yes   \n",
       "3  LP001006   Male     Yes          0  Not Graduate            No   \n",
       "4  LP001008   Male      No          0      Graduate            No   \n",
       "\n",
       "   ApplicantIncome  CoapplicantIncome  LoanAmount  Loan_Amount_Term  \\\n",
       "0             5849                0.0         NaN             360.0   \n",
       "1             4583             1508.0       128.0             360.0   \n",
       "2             3000                0.0        66.0             360.0   \n",
       "3             2583             2358.0       120.0             360.0   \n",
       "4             6000                0.0       141.0             360.0   \n",
       "\n",
       "   Credit_History Property_Area Loan_Status  \n",
       "0             1.0         Urban           Y  \n",
       "1             1.0         Rural           N  \n",
       "2             1.0         Urban           Y  \n",
       "3             1.0         Urban           Y  \n",
       "4             1.0         Urban           Y  "
      ]
     },
     "execution_count": 2,
     "metadata": {},
     "output_type": "execute_result"
    }
   ],
   "source": [
    "# Load the customer loan prediction training dataset\n",
    "df = pd.read_csv(\"Customer_Loan_Prediction_Train.csv\")\n",
    "df.head()"
   ]
  },
  {
   "cell_type": "code",
   "execution_count": 3,
   "id": "7a63a85f-b6cf-4b80-845f-7b8de8c32f75",
   "metadata": {},
   "outputs": [
    {
     "name": "stdout",
     "output_type": "stream",
     "text": [
      "<class 'pandas.core.frame.DataFrame'>\n",
      "RangeIndex: 614 entries, 0 to 613\n",
      "Data columns (total 13 columns):\n",
      " #   Column             Non-Null Count  Dtype  \n",
      "---  ------             --------------  -----  \n",
      " 0   Loan_ID            614 non-null    object \n",
      " 1   Gender             601 non-null    object \n",
      " 2   Married            611 non-null    object \n",
      " 3   Dependents         599 non-null    object \n",
      " 4   Education          614 non-null    object \n",
      " 5   Self_Employed      582 non-null    object \n",
      " 6   ApplicantIncome    614 non-null    int64  \n",
      " 7   CoapplicantIncome  614 non-null    float64\n",
      " 8   LoanAmount         592 non-null    float64\n",
      " 9   Loan_Amount_Term   600 non-null    float64\n",
      " 10  Credit_History     564 non-null    float64\n",
      " 11  Property_Area      614 non-null    object \n",
      " 12  Loan_Status        614 non-null    object \n",
      "dtypes: float64(4), int64(1), object(8)\n",
      "memory usage: 62.5+ KB\n"
     ]
    }
   ],
   "source": [
    "# Display information about the DataFrame\n",
    "df.info()"
   ]
  },
  {
   "cell_type": "markdown",
   "id": "d78945ae-6956-4b5a-b01c-b7571b91439a",
   "metadata": {},
   "source": [
    "2. Handling Missing Values"
   ]
  },
  {
   "cell_type": "code",
   "execution_count": 4,
   "id": "ce4d9e1d-b500-4516-ab2e-7d87d2d076db",
   "metadata": {},
   "outputs": [
    {
     "data": {
      "text/plain": [
       "Loan_ID               0\n",
       "Gender               13\n",
       "Married               3\n",
       "Dependents           15\n",
       "Education             0\n",
       "Self_Employed        32\n",
       "ApplicantIncome       0\n",
       "CoapplicantIncome     0\n",
       "LoanAmount           22\n",
       "Loan_Amount_Term     14\n",
       "Credit_History       50\n",
       "Property_Area         0\n",
       "Loan_Status           0\n",
       "dtype: int64"
      ]
     },
     "execution_count": 4,
     "metadata": {},
     "output_type": "execute_result"
    }
   ],
   "source": [
    "# Check for missing values\n",
    "df.isnull().sum()"
   ]
  },
  {
   "cell_type": "code",
   "execution_count": 5,
   "id": "7bceb3c7-4efc-4f12-8b0d-2dfebd6de34e",
   "metadata": {},
   "outputs": [],
   "source": [
    "# Fill missing values with the mode (most frequent value) for each column\n",
    "for i in df:\n",
    "    df[i].fillna(df[i].mode()[0], inplace=True)"
   ]
  },
  {
   "cell_type": "code",
   "execution_count": 6,
   "id": "ddfac07c-0c49-474f-95f2-1aa12909e511",
   "metadata": {},
   "outputs": [
    {
     "data": {
      "text/plain": [
       "Loan_ID              0\n",
       "Gender               0\n",
       "Married              0\n",
       "Dependents           0\n",
       "Education            0\n",
       "Self_Employed        0\n",
       "ApplicantIncome      0\n",
       "CoapplicantIncome    0\n",
       "LoanAmount           0\n",
       "Loan_Amount_Term     0\n",
       "Credit_History       0\n",
       "Property_Area        0\n",
       "Loan_Status          0\n",
       "dtype: int64"
      ]
     },
     "execution_count": 6,
     "metadata": {},
     "output_type": "execute_result"
    }
   ],
   "source": [
    "# Check if there are any remaining missing values\n",
    "df.isnull().sum()"
   ]
  },
  {
   "cell_type": "markdown",
   "id": "962f5817-0cc2-4751-9bea-2ca183d5b23e",
   "metadata": {},
   "source": [
    "3. Data Segmentation by Loan Status"
   ]
  },
  {
   "cell_type": "code",
   "execution_count": 7,
   "id": "dbb55ed7-3bc7-45e8-9aab-2bf6e09d58f7",
   "metadata": {},
   "outputs": [],
   "source": [
    "# Separate the data based on Loan_Status\n",
    "df_0 = df[df[\"Loan_Status\"] == \"N\"]\n",
    "df_1 = df[df[\"Loan_Status\"] == \"Y\"]"
   ]
  },
  {
   "cell_type": "markdown",
   "id": "c1928256-dec7-4cf0-80fe-b4e5c0b7d73d",
   "metadata": {},
   "source": [
    "4. Gender Distribution"
   ]
  },
  {
   "cell_type": "code",
   "execution_count": 8,
   "id": "9e367ac8-a9f8-4b35-a0bf-57f2a4d0230f",
   "metadata": {},
   "outputs": [],
   "source": [
    "df_gender_0 = df_0[\"Gender\"]\n",
    "df_gender_1 = df_1[\"Gender\"]"
   ]
  },
  {
   "cell_type": "code",
   "execution_count": 9,
   "id": "eef6ca73-55b4-437b-8222-665d7ae47031",
   "metadata": {},
   "outputs": [
    {
     "data": {
      "image/png": "[encoded data removed]",
      "text/plain": [
       "<Figure size 640x480 with 1 Axes>"
      ]
     },
     "metadata": {},
     "output_type": "display_data"
    }
   ],
   "source": [
    "# Plot histograms for gender distribution\n",
    "plt.hist([df_gender_0, df_gender_1], label=[\"No\", \"Yes\"])\n",
    "plt.xlabel('Gender')\n",
    "plt.ylabel('Count')\n",
    "plt.legend()\n",
    "plt.show()"
   ]
  },
  {
   "cell_type": "markdown",
   "id": "98164f04-089e-4984-aa4d-9bf4e4bb72ef",
   "metadata": {},
   "source": [
    "Graph Interpretation:\n",
    "\n",
    "- Observation: From the graph, we see that gender does not significantly affect the loan approval process, as both males and females have almost the same chances of obtaining a loan.\n",
    "\n",
    "- Additional Insights:\n",
    "\n",
    "    - This suggests that gender equality is being maintained in the loan approval process, which could be beneficial for institutions aiming to promote fair lending practices.\n",
    "    - This analysis could inform future studies on bias in lending, ensuring that no gender-based discrimination occurs."
   ]
  },
  {
   "cell_type": "markdown",
   "id": "b435db7e-79b3-4fae-82d7-762ac52897c9",
   "metadata": {},
   "source": [
    "5. Marital Status Distribution"
   ]
  },
  {
   "cell_type": "code",
   "execution_count": 10,
   "id": "f6359edc-bd0a-4ffd-81e8-dede0010d19e",
   "metadata": {},
   "outputs": [],
   "source": [
    "df_married_0 = df_0[\"Married\"]\n",
    "df_married_1 = df_1[\"Married\"]"
   ]
  },
  {
   "cell_type": "code",
   "execution_count": 11,
   "id": "0c315d22-57f7-48e0-8fc6-2c339b3bf465",
   "metadata": {},
   "outputs": [
    {
     "data": {
      "image/png": "[encoded data removed]",
      "text/plain": [
       "<Figure size 640x480 with 1 Axes>"
      ]
     },
     "metadata": {},
     "output_type": "display_data"
    }
   ],
   "source": [
    "# Plot histograms for marital status distribution\n",
    "plt.hist([df_married_0,df_married_1], label = [\"No\",\"Yes\"])\n",
    "plt.xlabel('Married')\n",
    "plt.ylabel('Count')\n",
    "plt.legend()\n",
    "plt.show()"
   ]
  },
  {
   "cell_type": "markdown",
   "id": "daa31b98-3bf9-44b9-891f-1beb4b5b2a2c",
   "metadata": {},
   "source": [
    "Graph Interpretation:\n",
    "\n",
    "- Observation: Married individuals are more likely to be approved for a loan than unmarried individuals, as the count of loans granted to married applicants is higher.\n",
    "\n",
    "- Additional Insights:\n",
    "\n",
    "    - This could suggest that financial institutions might see married individuals as more financially stable or more likely to have a reliable income stream.\n",
    "    - Married applicants may also have joint income and assets, which could influence the likelihood of loan approval.\n",
    "    - Future models could factor in marital status as an important predictor for loan eligibility."
   ]
  },
  {
   "cell_type": "markdown",
   "id": "c2efb7ac-0ab6-434c-b5f5-949698352f5c",
   "metadata": {},
   "source": [
    "6. Dependents and Loan Approval"
   ]
  },
  {
   "cell_type": "code",
   "execution_count": 12,
   "id": "062283db-7704-4f28-9f16-24de127445dc",
   "metadata": {},
   "outputs": [],
   "source": [
    "df_dependents_0 = df_0[\"Dependents\"]\n",
    "df_dependents_1 = df_1[\"Dependents\"]"
   ]
  },
  {
   "cell_type": "code",
   "execution_count": 13,
   "id": "0ba5e1a8-1d73-4aa4-9f96-556f52e3883e",
   "metadata": {},
   "outputs": [
    {
     "data": {
      "image/png": "[encoded data removed]",
      "text/plain": [
       "<Figure size 640x480 with 1 Axes>"
      ]
     },
     "metadata": {},
     "output_type": "display_data"
    }
   ],
   "source": [
    "# Plot histograms for dependents distribution\n",
    "plt.hist([df_dependents_0,df_dependents_1], label = [\"No\",\"Yes\"])\n",
    "plt.xlabel('Dependents')\n",
    "plt.ylabel('Count')\n",
    "plt.legend()\n",
    "plt.show()"
   ]
  },
  {
   "cell_type": "markdown",
   "id": "ab8e1177-bc4a-4215-9e8e-12fd2bd869c3",
   "metadata": {},
   "source": [
    "Graph Interpretation:\n",
    "\n",
    "- Observation: Individuals with more dependents are more likely to apply for a loan. This indicates that larger families may need additional financial support, which results in more loan applications.\n",
    "\n",
    "- Additional Insights:\n",
    "\n",
    "    - The presence of dependents may be a proxy for household financial responsibility. Lenders may need to assess loan applicants' ability to handle additional financial burdens, including the responsibility of dependents.\n",
    "    - Financial institutions could consider offering targeted products for families with dependents to meet their unique needs."
   ]
  },
  {
   "cell_type": "markdown",
   "id": "324f09e9-c1f0-4fe3-9bd6-47fc0b92dbd9",
   "metadata": {},
   "source": [
    "7. Education Level and Loan Approval"
   ]
  },
  {
   "cell_type": "code",
   "execution_count": 14,
   "id": "e6d87fdb-0d75-4581-976d-bf5fb8014677",
   "metadata": {},
   "outputs": [],
   "source": [
    "df_education_0 = df_0[\"Education\"]\n",
    "df_education_1 = df_1[\"Education\"]"
   ]
  },
  {
   "cell_type": "code",
   "execution_count": 15,
   "id": "64f6e213-944a-4c9e-ba6a-a724a2e264d0",
   "metadata": {},
   "outputs": [
    {
     "data": {
      "image/png": "[encoded data removed]",
      "text/plain": [
       "<Figure size 640x480 with 1 Axes>"
      ]
     },
     "metadata": {},
     "output_type": "display_data"
    }
   ],
   "source": [
    "# Plot histograms for education distribution\n",
    "plt.hist([df_education_0,df_education_1], label = [\"No\",\"Yes\"])\n",
    "plt.xlabel('Education')\n",
    "plt.ylabel('Count')\n",
    "plt.legend()\n",
    "plt.show()"
   ]
  },
  {
   "cell_type": "markdown",
   "id": "dd17ce8d-375f-494d-90a3-d6689d190dc4",
   "metadata": {},
   "source": [
    "Graph Interpretation:\n",
    "\n",
    "- Observation: Graduates are more likely to take out loans compared to non-graduates, suggesting that education plays a key role in loan approval.\n",
    "\n",
    "- Additional Insights:\n",
    "\n",
    "    - This could reflect a societal trend where higher education correlates with better job prospects, higher income, and financial stability, making graduates more reliable borrowers.\n",
    "    - Loan institutions may consider offering education-related loans or specialized packages for graduates, targeting individuals with higher earning potential."
   ]
  },
  {
   "cell_type": "markdown",
   "id": "fe7b3875-2d25-4173-82aa-27c4a9201988",
   "metadata": {},
   "source": [
    "8. Self-Employed Status and Loan Approval"
   ]
  },
  {
   "cell_type": "code",
   "execution_count": 16,
   "id": "2deb0421-6564-471a-a9b1-94f8f1cf3237",
   "metadata": {},
   "outputs": [],
   "source": [
    "df_self_employed_0 = df_0[\"Self_Employed\"]\n",
    "df_self_employed_1 = df_1[\"Self_Employed\"]"
   ]
  },
  {
   "cell_type": "code",
   "execution_count": 17,
   "id": "2541cfb1-d266-47d4-8a09-db6080fe7743",
   "metadata": {},
   "outputs": [
    {
     "data": {
      "image/png": "[encoded data removed]",
      "text/plain": [
       "<Figure size 640x480 with 1 Axes>"
      ]
     },
     "metadata": {},
     "output_type": "display_data"
    }
   ],
   "source": [
    "plt.hist([df_self_employed_0,df_self_employed_1], label = [\"No\",\"Yes\"])\n",
    "plt.xlabel('Self_Employed')\n",
    "plt.ylabel('Count')\n",
    "plt.legend()\n",
    "plt.show()"
   ]
  },
  {
   "cell_type": "markdown",
   "id": "60779961-6d49-4b43-8b07-37d11efd4571",
   "metadata": {},
   "source": [
    "Graph Interpretation:\n",
    "\n",
    "- Observation: Being self-employed does not significantly impact the loan approval decision. Self-employed individuals have almost the same chances of getting a loan as those who are not self-employed.\n",
    "\n",
    "- Additional Insights:\n",
    "\n",
    "    - This could indicate that financial institutions are making loan decisions based on factors other than employment status, such as credit history or income stability.\n",
    "    - It might also suggest that self-employed individuals are managing to maintain their financial credibility, potentially through consistent income or business success.\n",
    "    - Further investigations could look into alternative income verification methods for self-employed applicants."
   ]
  },
  {
   "cell_type": "markdown",
   "id": "b8fbb0b5-f072-4d0c-9f78-a19e93e19b74",
   "metadata": {},
   "source": [
    "9. Property Area and Loan Approval"
   ]
  },
  {
   "cell_type": "code",
   "execution_count": 18,
   "id": "a40915e6-fa02-496b-8e95-3c66d5d6c1f5",
   "metadata": {},
   "outputs": [],
   "source": [
    "df_property_area_0 = df_0[\"Property_Area\"]\n",
    "df_property_area_1 = df_1[\"Property_Area\"]"
   ]
  },
  {
   "cell_type": "code",
   "execution_count": 19,
   "id": "ce700783-d329-4e2f-af5f-cba52d1b9bee",
   "metadata": {},
   "outputs": [
    {
     "data": {
      "image/png": "[encoded data removed]",
      "text/plain": [
       "<Figure size 640x480 with 1 Axes>"
      ]
     },
     "metadata": {},
     "output_type": "display_data"
    }
   ],
   "source": [
    "plt.hist([df_property_area_0,df_property_area_1], label = [\"No\",\"Yes\"])\n",
    "plt.xlabel('Property_Area')\n",
    "plt.ylabel('Count')\n",
    "plt.legend()\n",
    "plt.show()"
   ]
  },
  {
   "cell_type": "markdown",
   "id": "f64012be-8cb5-4542-9cec-0d9750a9be0b",
   "metadata": {},
   "source": [
    "Graph Interpretation:\n",
    "\n",
    "- Observation: Individuals residing in semi-urban areas are more likely to obtain a loan compared to those in urban or rural areas. Additionally, individuals residing in urban areas are more likely to obtain a loan than those in rural areas, but their likelihood of obtaining a loan is still less than those residing in semi-urban areas.\n",
    "\n",
    "- Additional Insights:\n",
    "\n",
    "    - This could reflect economic differences between rural, urban, and semi-urban areas. People in semi-urban areas may have better access to jobs, infrastructure, and financial services, making them more eligible for loans.\n",
    "    - Financial institutions could target semi-urban populations for loan products based on this analysis.\n",
    "    - Further investigation might be needed into regional economic trends, such as income disparities or job market conditions, to better understand these geographical trends."
   ]
  },
  {
   "cell_type": "markdown",
   "id": "400fdef9-5057-4fae-9dae-4091abe27f8e",
   "metadata": {},
   "source": [
    "10. Conclusion"
   ]
  },
  {
   "cell_type": "markdown",
   "id": "0b24652f-1379-468a-b890-4d492ff4af50",
   "metadata": {},
   "source": [
    "In this analysis, we explored several customer attributes and their relationship with loan approval. Here are the key takeaways:\n",
    "- Gender does not have a significant impact on loan approval.\n",
    "- Marital Status: Married individuals are more likely to get approved for loans.\n",
    "- Dependents: Customers with dependents are more likely to apply for loans.\n",
    "- Education: Graduates have a higher likelihood of loan approval.\n",
    "- Self-Employed: Self-employed status does not significantly affect loan approval.\n",
    "- Property Area: Residents in semi-urban areas are more likely to be approved for loans compared to those in urban or rural areas."
   ]
  }
 ],
 "metadata": {
  "kernelspec": {
   "display_name": "Python 3 (ipykernel)",
   "language": "python",
   "name": "python3"
  },
  "language_info": {
   "codemirror_mode": {
    "name": "ipython",
    "version": 3
   },
   "file_extension": ".py",
   "mimetype": "text/x-python",
   "name": "python",
   "nbconvert_exporter": "python",
   "pygments_lexer": "ipython3",
   "version": "3.11.7"
  }
 },
 "nbformat": 4,
 "nbformat_minor": 5
}
